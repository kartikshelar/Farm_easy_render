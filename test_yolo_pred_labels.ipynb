{
 "cells": [
  {
   "cell_type": "code",
   "execution_count": 2,
   "id": "34c03c51",
   "metadata": {},
   "outputs": [],
   "source": [
    "import torch\n",
    "import pandas as pd"
   ]
  },
  {
   "cell_type": "code",
   "execution_count": 3,
   "id": "3e564fb5",
   "metadata": {},
   "outputs": [
    {
     "name": "stderr",
     "output_type": "stream",
     "text": [
      "Using cache found in C:\\Users\\Kartik Shelar/.cache\\torch\\hub\\ultralytics_yolov5_master\n",
      "YOLOv5  2022-10-5 Python-3.8.8 torch-1.12.1 CUDA:0 (NVIDIA GeForce GTX 1650, 4096MiB)\n",
      "\n",
      "Fusing layers... \n",
      "Model summary: 157 layers, 7091035 parameters, 0 gradients, 16.0 GFLOPs\n",
      "Adding AutoShape... \n"
     ]
    }
   ],
   "source": [
    "disease_model= torch.hub.load('ultralytics/yolov5', 'custom', 'best.pt') "
   ]
  },
  {
   "cell_type": "code",
   "execution_count": 6,
   "id": "ae0d418b",
   "metadata": {},
   "outputs": [],
   "source": [
    "img1=\"PlantDoc-2/test/images/000_jpg.rf.1aa442861ebabdd012269ce831c36685.jpg\""
   ]
  },
  {
   "cell_type": "code",
   "execution_count": 7,
   "id": "e0392725",
   "metadata": {},
   "outputs": [],
   "source": [
    "results= disease_model(img1)"
   ]
  },
  {
   "cell_type": "code",
   "execution_count": 8,
   "id": "046838c0",
   "metadata": {},
   "outputs": [
    {
     "ename": "TypeError",
     "evalue": "can't convert cuda:0 device type tensor to numpy. Use Tensor.cpu() to copy the tensor to host memory first.",
     "output_type": "error",
     "traceback": [
      "\u001b[1;31m---------------------------------------------------------------------------\u001b[0m",
      "\u001b[1;31mTypeError\u001b[0m                                 Traceback (most recent call last)",
      "Cell \u001b[1;32mIn [8], line 1\u001b[0m\n\u001b[1;32m----> 1\u001b[0m labels, cord_thres \u001b[38;5;241m=\u001b[39m results\u001b[38;5;241m.\u001b[39mxyxyn[\u001b[38;5;241m0\u001b[39m][:, \u001b[38;5;241m-\u001b[39m\u001b[38;5;241m1\u001b[39m]\u001b[38;5;241m.\u001b[39mnumpy(), results\u001b[38;5;241m.\u001b[39mxyxyn[\u001b[38;5;241m0\u001b[39m][:, :\u001b[38;5;241m-\u001b[39m\u001b[38;5;241m1\u001b[39m]\u001b[38;5;241m.\u001b[39mnumpy()\n",
      "\u001b[1;31mTypeError\u001b[0m: can't convert cuda:0 device type tensor to numpy. Use Tensor.cpu() to copy the tensor to host memory first."
     ]
    }
   ],
   "source": [
    "labels, cord_thres = results.xyxyn[0][:, -1].numpy(), results.xyxyn[0][:, :-1].numpy()"
   ]
  },
  {
   "cell_type": "code",
   "execution_count": 9,
   "id": "e65ec04b",
   "metadata": {},
   "outputs": [
    {
     "data": {
      "text/html": [
       "<div>\n",
       "<style scoped>\n",
       "    .dataframe tbody tr th:only-of-type {\n",
       "        vertical-align: middle;\n",
       "    }\n",
       "\n",
       "    .dataframe tbody tr th {\n",
       "        vertical-align: top;\n",
       "    }\n",
       "\n",
       "    .dataframe thead th {\n",
       "        text-align: right;\n",
       "    }\n",
       "</style>\n",
       "<table border=\"1\" class=\"dataframe\">\n",
       "  <thead>\n",
       "    <tr style=\"text-align: right;\">\n",
       "      <th></th>\n",
       "      <th>xmin</th>\n",
       "      <th>ymin</th>\n",
       "      <th>xmax</th>\n",
       "      <th>ymax</th>\n",
       "      <th>confidence</th>\n",
       "      <th>class</th>\n",
       "      <th>name</th>\n",
       "    </tr>\n",
       "  </thead>\n",
       "  <tbody>\n",
       "    <tr>\n",
       "      <th>0</th>\n",
       "      <td>198.306229</td>\n",
       "      <td>1.331421</td>\n",
       "      <td>967.6427</td>\n",
       "      <td>676.309998</td>\n",
       "      <td>0.290008</td>\n",
       "      <td>2</td>\n",
       "      <td>Apple rust leaf</td>\n",
       "    </tr>\n",
       "  </tbody>\n",
       "</table>\n",
       "</div>"
      ],
      "text/plain": [
       "         xmin      ymin      xmax        ymax  confidence  class  \\\n",
       "0  198.306229  1.331421  967.6427  676.309998    0.290008      2   \n",
       "\n",
       "              name  \n",
       "0  Apple rust leaf  "
      ]
     },
     "execution_count": 9,
     "metadata": {},
     "output_type": "execute_result"
    }
   ],
   "source": [
    "results.pandas().xyxy[0]"
   ]
  },
  {
   "cell_type": "code",
   "execution_count": 28,
   "id": "717fbbe0",
   "metadata": {},
   "outputs": [
    {
     "data": {
      "text/html": [
       "<div>\n",
       "<style scoped>\n",
       "    .dataframe tbody tr th:only-of-type {\n",
       "        vertical-align: middle;\n",
       "    }\n",
       "\n",
       "    .dataframe tbody tr th {\n",
       "        vertical-align: top;\n",
       "    }\n",
       "\n",
       "    .dataframe thead th {\n",
       "        text-align: right;\n",
       "    }\n",
       "</style>\n",
       "<table border=\"1\" class=\"dataframe\">\n",
       "  <thead>\n",
       "    <tr style=\"text-align: right;\">\n",
       "      <th></th>\n",
       "      <th>xmin</th>\n",
       "      <th>ymin</th>\n",
       "      <th>xmax</th>\n",
       "      <th>ymax</th>\n",
       "      <th>confidence</th>\n",
       "      <th>class</th>\n",
       "      <th>name</th>\n",
       "    </tr>\n",
       "  </thead>\n",
       "  <tbody>\n",
       "    <tr>\n",
       "      <th>0</th>\n",
       "      <td>0.193658</td>\n",
       "      <td>0.001734</td>\n",
       "      <td>0.944964</td>\n",
       "      <td>0.880612</td>\n",
       "      <td>0.290008</td>\n",
       "      <td>2</td>\n",
       "      <td>Apple rust leaf</td>\n",
       "    </tr>\n",
       "  </tbody>\n",
       "</table>\n",
       "</div>"
      ],
      "text/plain": [
       "       xmin      ymin      xmax      ymax  confidence  class             name\n",
       "0  0.193658  0.001734  0.944964  0.880612    0.290008      2  Apple rust leaf"
      ]
     },
     "execution_count": 28,
     "metadata": {},
     "output_type": "execute_result"
    }
   ],
   "source": [
    "results.pandas().xyxyn[0]"
   ]
  },
  {
   "cell_type": "code",
   "execution_count": 29,
   "id": "e6960b14",
   "metadata": {},
   "outputs": [],
   "source": [
    "df = results.pandas().xyxy[0]"
   ]
  },
  {
   "cell_type": "code",
   "execution_count": 33,
   "id": "06640a1f",
   "metadata": {},
   "outputs": [
    {
     "data": {
      "text/plain": [
       "'Apple rust leaf'"
      ]
     },
     "execution_count": 33,
     "metadata": {},
     "output_type": "execute_result"
    }
   ],
   "source": [
    "df[\"name\"][0]"
   ]
  },
  {
   "cell_type": "code",
   "execution_count": null,
   "id": "47360f53",
   "metadata": {},
   "outputs": [],
   "source": []
  }
 ],
 "metadata": {
  "kernelspec": {
   "display_name": "Python 3",
   "language": "python",
   "name": "python3"
  },
  "language_info": {
   "codemirror_mode": {
    "name": "ipython",
    "version": 3
   },
   "file_extension": ".py",
   "mimetype": "text/x-python",
   "name": "python",
   "nbconvert_exporter": "python",
   "pygments_lexer": "ipython3",
   "version": "3.8.8"
  }
 },
 "nbformat": 4,
 "nbformat_minor": 5
}
